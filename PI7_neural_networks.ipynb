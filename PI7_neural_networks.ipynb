{
 "cells": [
  {
   "cell_type": "markdown",
   "metadata": {},
   "source": [
    "Beschrijving van de dataset\n",
    "\n",
    "Deze dataset is kunstmatig gecreëerd en richt zich op het voorspellen van landbouwoogsten. Het simuleert omstandigheden op basis van diverse milieu- en managementfactoren. Het doel is het bieden van een oefenomgeving voor het ontwikkelen van voorspellende modellen in de context van landbouw, machine learning en regressieanalyse."
   ]
  },
  {
   "cell_type": "markdown",
   "metadata": {},
   "source": [
    "Dit Python-script maakt gebruik van de pandas-bibliotheek om de gegevens in te lezen vanuit het CSV-bestand genaamd \"agricultural_yield_train.csv\". De gegevens worden opgeslagen in de variabele `ay_data`. Door de `head()`-functie te gebruiken, worden de eerste paar rijen van de dataset weergegeven. Dit geeft een snel overzicht van de structuur en inhoud van de gegevens."
   ]
  },
  {
   "cell_type": "code",
   "execution_count": 1,
   "metadata": {},
   "outputs": [
    {
     "data": {
      "text/html": [
       "<div>\n",
       "<style scoped>\n",
       "    .dataframe tbody tr th:only-of-type {\n",
       "        vertical-align: middle;\n",
       "    }\n",
       "\n",
       "    .dataframe tbody tr th {\n",
       "        vertical-align: top;\n",
       "    }\n",
       "\n",
       "    .dataframe thead th {\n",
       "        text-align: right;\n",
       "    }\n",
       "</style>\n",
       "<table border=\"1\" class=\"dataframe\">\n",
       "  <thead>\n",
       "    <tr style=\"text-align: right;\">\n",
       "      <th></th>\n",
       "      <th>Soil_Quality</th>\n",
       "      <th>Seed_Variety</th>\n",
       "      <th>Fertilizer_Amount_kg_per_hectare</th>\n",
       "      <th>Sunny_Days</th>\n",
       "      <th>Rainfall_mm</th>\n",
       "      <th>Irrigation_Schedule</th>\n",
       "      <th>Yield_kg_per_hectare</th>\n",
       "    </tr>\n",
       "  </thead>\n",
       "  <tbody>\n",
       "    <tr>\n",
       "      <th>0</th>\n",
       "      <td>96.415657</td>\n",
       "      <td>1</td>\n",
       "      <td>147.853040</td>\n",
       "      <td>94.593926</td>\n",
       "      <td>444.267569</td>\n",
       "      <td>3</td>\n",
       "      <td>683.759119</td>\n",
       "    </tr>\n",
       "    <tr>\n",
       "      <th>1</th>\n",
       "      <td>92.352626</td>\n",
       "      <td>0</td>\n",
       "      <td>281.565396</td>\n",
       "      <td>90.504644</td>\n",
       "      <td>517.585491</td>\n",
       "      <td>7</td>\n",
       "      <td>678.714861</td>\n",
       "    </tr>\n",
       "    <tr>\n",
       "      <th>2</th>\n",
       "      <td>63.714785</td>\n",
       "      <td>1</td>\n",
       "      <td>137.864940</td>\n",
       "      <td>97.329340</td>\n",
       "      <td>420.310945</td>\n",
       "      <td>8</td>\n",
       "      <td>934.691975</td>\n",
       "    </tr>\n",
       "    <tr>\n",
       "      <th>3</th>\n",
       "      <td>90.084256</td>\n",
       "      <td>1</td>\n",
       "      <td>100.946659</td>\n",
       "      <td>113.404828</td>\n",
       "      <td>547.817646</td>\n",
       "      <td>7</td>\n",
       "      <td>905.842541</td>\n",
       "    </tr>\n",
       "    <tr>\n",
       "      <th>4</th>\n",
       "      <td>81.600341</td>\n",
       "      <td>1</td>\n",
       "      <td>223.088908</td>\n",
       "      <td>83.048176</td>\n",
       "      <td>434.726333</td>\n",
       "      <td>6</td>\n",
       "      <td>897.584665</td>\n",
       "    </tr>\n",
       "  </tbody>\n",
       "</table>\n",
       "</div>"
      ],
      "text/plain": [
       "   Soil_Quality  Seed_Variety  Fertilizer_Amount_kg_per_hectare  Sunny_Days  \\\n",
       "0     96.415657             1                        147.853040   94.593926   \n",
       "1     92.352626             0                        281.565396   90.504644   \n",
       "2     63.714785             1                        137.864940   97.329340   \n",
       "3     90.084256             1                        100.946659  113.404828   \n",
       "4     81.600341             1                        223.088908   83.048176   \n",
       "\n",
       "   Rainfall_mm  Irrigation_Schedule  Yield_kg_per_hectare  \n",
       "0   444.267569                    3            683.759119  \n",
       "1   517.585491                    7            678.714861  \n",
       "2   420.310945                    8            934.691975  \n",
       "3   547.817646                    7            905.842541  \n",
       "4   434.726333                    6            897.584665  "
      ]
     },
     "execution_count": 1,
     "metadata": {},
     "output_type": "execute_result"
    }
   ],
   "source": [
    "import pandas as pd\n",
    "\n",
    "ay_data = pd.read_csv(\"../csv/agricultural_yield_train.csv\")\n",
    "ay_data.head()"
   ]
  },
  {
   "cell_type": "markdown",
   "metadata": {},
   "source": [
    "Dit Python-script bereidt gegevens voor machine learning voor door features (`X`) en een targetvariabele (`y`) te definiëren. De features worden gedefinieerd als alle kolommen behalve `\"Seed_Variety\"` in het DataFrame `ay_data`, en de targetvariabele (`y`) wordt ingesteld op de kolom `\"Seed_Variety\"`."
   ]
  },
  {
   "cell_type": "code",
   "execution_count": 2,
   "metadata": {},
   "outputs": [
    {
     "data": {
      "text/plain": [
       "(       Soil_Quality  Fertilizer_Amount_kg_per_hectare  Sunny_Days  \\\n",
       " 0         96.415657                        147.853040   94.593926   \n",
       " 1         92.352626                        281.565396   90.504644   \n",
       " 2         63.714785                        137.864940   97.329340   \n",
       " 3         90.084256                        100.946659  113.404828   \n",
       " 4         81.600341                        223.088908   83.048176   \n",
       " ...             ...                               ...         ...   \n",
       " 15995     77.053550                        154.189768  103.115855   \n",
       " 15996     99.795631                        282.295839  123.598354   \n",
       " 15997     67.478487                        120.017122  102.308627   \n",
       " 15998     85.176890                        247.847389  114.956634   \n",
       " 15999     87.838280                        244.216536   98.313738   \n",
       " \n",
       "        Rainfall_mm  Irrigation_Schedule  Yield_kg_per_hectare  \n",
       " 0       444.267569                    3            683.759119  \n",
       " 1       517.585491                    7            678.714861  \n",
       " 2       420.310945                    8            934.691975  \n",
       " 3       547.817646                    7            905.842541  \n",
       " 4       434.726333                    6            897.584665  \n",
       " ...            ...                  ...                   ...  \n",
       " 15995   319.915079                    7            956.781949  \n",
       " 15996   647.292136                    4            879.682714  \n",
       " 15997   514.372747                    8            932.829561  \n",
       " 15998   695.035801                    6            889.738438  \n",
       " 15999   590.794915                    6            554.698389  \n",
       " \n",
       " [16000 rows x 6 columns],\n",
       " 0        1\n",
       " 1        0\n",
       " 2        1\n",
       " 3        1\n",
       " 4        1\n",
       "         ..\n",
       " 15995    1\n",
       " 15996    1\n",
       " 15997    1\n",
       " 15998    1\n",
       " 15999    0\n",
       " Name: Seed_Variety, Length: 16000, dtype: int64)"
      ]
     },
     "execution_count": 2,
     "metadata": {},
     "output_type": "execute_result"
    }
   ],
   "source": [
    "X = ay_data.drop([\"Seed_Variety\"], axis=1)\n",
    "y = ay_data[\"Seed_Variety\"]\n",
    "\n",
    "X, y"
   ]
  },
  {
   "cell_type": "markdown",
   "metadata": {},
   "source": [
    "Dit Python-script maakt gebruik van de `train_test_split`-functie uit de scikit-learn bibliotheek om een dataset op te splitsen in training- en testsets. De features (`X`) en de bijbehorende targetvariabele (`y`) worden als invoer gegeven. De resulterende datasets, `X_train`, `X_test`, `y_train`, en `y_test`, worden gebruikt voor het trainen en evalueren van de modellen. De parameter `test_size=0.2` geeft aan dat 20% van de gegevens wordt toegewezen aan de testset, terwijl 80% wordt gebruikt voor training. De parameter `random_state=0` zorgt voor reproduceerbaarheid van de splitsing. Met toevoeging van `stratify=y` wordt de parameter `stratify` toegepast, wat betekent dat de verdeling van klassen in de targetvariabele (`y`) behouden blijft in zowel de training- als de testset. Dit is vooral relevant bij classificatietaken met ongebalanceerde datasets, waarbij het behoud van dezelfde klasseverdeling in beide sets belangrijk is om de representativiteit van de data te waarborgen."
   ]
  },
  {
   "cell_type": "code",
   "execution_count": 3,
   "metadata": {},
   "outputs": [],
   "source": [
    "from sklearn.model_selection import train_test_split\n",
    "\n",
    "X_train, X_test, y_train, y_test = train_test_split(X, y, test_size=0.2, random_state=0, stratify=y)"
   ]
  },
  {
   "cell_type": "markdown",
   "metadata": {},
   "source": [
    "Dit codeblok voert een grid search uit om de beste hyperparameters te vinden voor een neuraal netwerkmodel. Het zoekt de optimale combinatie van verborgen laaggroottes, activatiefuncties en optimalisatiealgoritmen door middel van 5-voudige cross-validatie. Het beste model en de bijbehorende hyperparameters worden opgeslagen voor verdere evaluatie en gebruik.\n",
    "\n",
    "**DIT CODE BLOK RUNT DE EERSTE KEER 5 MIN**"
   ]
  },
  {
   "cell_type": "code",
   "execution_count": 4,
   "metadata": {},
   "outputs": [],
   "source": [
    "from sklearn.model_selection import GridSearchCV\n",
    "from sklearn.neural_network import MLPClassifier\n",
    "\n",
    "param_grid = {\n",
    "    'hidden_layer_sizes': [(64,), (128,), (64, 64), (128, 128)],\n",
    "    'activation': ['relu', 'tanh'],\n",
    "    'solver': ['adam', 'sgd'],\n",
    "}\n",
    "\n",
    "model_nn = MLPClassifier(random_state=0)\n",
    "\n",
    "grid_search_nn = GridSearchCV(estimator=model_nn, param_grid=param_grid, cv=5)\n",
    "\n",
    "grid_search_nn.fit(X_train, y_train)\n",
    "\n",
    "best_params_nn = grid_search_nn.best_params_\n",
    "\n",
    "best_model_nn = grid_search_nn.best_estimator_\n"
   ]
  },
  {
   "cell_type": "markdown",
   "metadata": {},
   "source": [
    "Deze code lijn maakt gebruik van het eerder getrainde Random Forest-classificatiemodel (`best_model_nn`) om voorspellingen te doen op de testdataset (`X_test`). De resulterende voorspellingen worden opgeslagen in de variabele `y_pred_nn`. Het doel is om de prestaties van het Random Forest-model te evalueren door de voorspellingen te vergelijken met de echte labels van de testdataset."
   ]
  },
  {
   "cell_type": "code",
   "execution_count": 5,
   "metadata": {},
   "outputs": [
    {
     "data": {
      "text/plain": [
       "array([0, 1, 1, ..., 1, 1, 1], dtype=int64)"
      ]
     },
     "execution_count": 5,
     "metadata": {},
     "output_type": "execute_result"
    }
   ],
   "source": [
    "y_pred_nn = best_model_nn.predict(X_test)\n",
    "y_pred_nn"
   ]
  },
  {
   "cell_type": "markdown",
   "metadata": {},
   "source": [
    "Dit codeblok voert een iteratieve evaluatie uit van de nauwkeurigheid van neurale netwerkmodellen voor verschillende combinaties van hyperparameters. Het doorloopt alle mogelijke combinaties van verborgen laaggroottes, activatiefuncties en optimalisatiealgoritmen en berekent de nauwkeurigheid van elk model op de testset. Vervolgens wordt het beste model geïdentificeerd op basis van de hoogste nauwkeurigheid en worden de beste hyperparameters en de bijbehorende nauwkeurigheid weergegeven.\n",
    "\n",
    "**DIT CODE BLOK RUNT DE EERSTE KEER 1 MIN**\n"
   ]
  },
  {
   "cell_type": "code",
   "execution_count": 6,
   "metadata": {},
   "outputs": [
    {
     "name": "stdout",
     "output_type": "stream",
     "text": [
      "Accuracy for hidden_layer_sizes=(64,), activation=relu, solver=adam: 0.9965625\n",
      "Accuracy for hidden_layer_sizes=(64,), activation=relu, solver=sgd: 0.9159375\n",
      "Accuracy for hidden_layer_sizes=(64,), activation=tanh, solver=adam: 0.9978125\n",
      "Accuracy for hidden_layer_sizes=(64,), activation=tanh, solver=sgd: 0.8784375\n",
      "Accuracy for hidden_layer_sizes=(128,), activation=relu, solver=adam: 0.9965625\n",
      "Accuracy for hidden_layer_sizes=(128,), activation=relu, solver=sgd: 0.9434375\n",
      "Accuracy for hidden_layer_sizes=(128,), activation=tanh, solver=adam: 0.998125\n",
      "Accuracy for hidden_layer_sizes=(128,), activation=tanh, solver=sgd: 0.8940625\n",
      "Accuracy for hidden_layer_sizes=(64, 64), activation=relu, solver=adam: 0.9965625\n",
      "Accuracy for hidden_layer_sizes=(64, 64), activation=relu, solver=sgd: 0.905625\n",
      "Accuracy for hidden_layer_sizes=(64, 64), activation=tanh, solver=adam: 0.9978125\n",
      "Accuracy for hidden_layer_sizes=(64, 64), activation=tanh, solver=sgd: 0.8840625\n",
      "Accuracy for hidden_layer_sizes=(128, 128), activation=relu, solver=adam: 0.99125\n",
      "Accuracy for hidden_layer_sizes=(128, 128), activation=relu, solver=sgd: 0.93125\n",
      "Accuracy for hidden_layer_sizes=(128, 128), activation=tanh, solver=adam: 0.99625\n",
      "Accuracy for hidden_layer_sizes=(128, 128), activation=tanh, solver=sgd: 0.876875\n",
      "----------------------------------------------------------------------\n",
      "Best hyperparameters for Neural Network: {'activation': 'tanh', 'hidden_layer_sizes': (128, 128), 'solver': 'adam'}\n",
      "Accuracy of best Neural Network model: 0.99625\n"
     ]
    }
   ],
   "source": [
    "from sklearn.metrics import accuracy_score\n",
    "\n",
    "for hidden_layer_sizes in param_grid['hidden_layer_sizes']:\n",
    "    for activation in param_grid['activation']:\n",
    "        for solver in param_grid['solver']:\n",
    "            model_nn = MLPClassifier(hidden_layer_sizes=hidden_layer_sizes, activation=activation, solver=solver, random_state=0)\n",
    "            model_nn.fit(X_train, y_train)\n",
    "            accuracy = accuracy_score(y_test, model_nn.predict(X_test))\n",
    "            print(f\"Accuracy for hidden_layer_sizes={hidden_layer_sizes}, activation={activation}, solver={solver}: {accuracy}\")\n",
    "\n",
    "best_accuracy_nn = accuracy_score(y_test, best_model_nn.predict(X_test))\n",
    "print(\"----------------------------------------------------------------------\")\n",
    "print(f\"Best hyperparameters for Neural Network: {best_params_nn}\")\n",
    "print(f\"Accuracy of best Neural Network model: {best_accuracy_nn}\")"
   ]
  },
  {
   "cell_type": "markdown",
   "metadata": {},
   "source": [
    "Dit codeblok genereert een staafdiagram dat de structuur van het beste neurale netwerkmodel visualiseert. De x-as vertegenwoordigt de verborgen lagen van het neurale netwerk, terwijl de y-as het aantal neuronen in elke verborgen laag aangeeft. De plot biedt een overzicht van hoe het neurale netwerk is opgebouwd, wat nuttig kan zijn voor het begrijpen van de complexiteit en architectuur van het model."
   ]
  },
  {
   "cell_type": "code",
   "execution_count": 8,
   "metadata": {},
   "outputs": [
    {
     "data": {
      "image/png": "[encoded data removed]",
      "text/plain": [
       "<Figure size 1000x600 with 1 Axes>"
      ]
     },
     "metadata": {},
     "output_type": "display_data"
    }
   ],
   "source": [
    "import matplotlib.pyplot as plt\n",
    "\n",
    "best_hidden_layer_sizes = best_model_nn.hidden_layer_sizes\n",
    "\n",
    "plt.figure(figsize=(10, 6))\n",
    "plt.bar(range(len(best_hidden_layer_sizes)), best_hidden_layer_sizes)\n",
    "plt.xlabel(\"Hidden Layer\")\n",
    "plt.ylabel(\"Number of Neurons\")\n",
    "plt.title(\"Neural Network Structure\")\n",
    "plt.show()"
   ]
  },
  {
   "cell_type": "markdown",
   "metadata": {},
   "source": [
    "Conclusie\n",
    "\n",
    "De analyse van de dataset en de ontwikkeling van voorspellende modellen hebben enkele belangrijke inzichten opgeleverd\n",
    "\n",
    "De nauwkeurigheid van het beste neuraal netwerkmodel suggereert dat het model goed in staat is om landbouwoogsten te voorspellen op basis van de beschikbare kenmerken.\n",
    "\n",
    "De visualisatie van de neurale netwerkstructuur biedt inzicht in de architectuur van het model, wat kan helpen bij het begrijpen van de complexiteit en de manier waarop het model informatie verwerkt.\n",
    "\n",
    "Het grid search-proces voor hyperparameter tuning benadrukt het belang van het selecteren van de juiste combinatie van hyperparameters voor het optimaliseren van modelprestaties."
   ]
  }
 ],
 "metadata": {
  "kernelspec": {
   "display_name": "b2c3",
   "language": "python",
   "name": "python3"
  },
  "language_info": {
   "codemirror_mode": {
    "name": "ipython",
    "version": 3
   },
   "file_extension": ".py",
   "mimetype": "text/x-python",
   "name": "python",
   "nbconvert_exporter": "python",
   "pygments_lexer": "ipython3",
   "version": "3.10.13"
  }
 },
 "nbformat": 4,
 "nbformat_minor": 2
}
