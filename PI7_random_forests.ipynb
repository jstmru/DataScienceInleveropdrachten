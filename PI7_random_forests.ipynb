{
 "cells": [
  {
   "cell_type": "markdown",
   "metadata": {},
   "source": [
    "Beschrijving van de dataset\n",
    "\n",
    "Deze dataset is kunstmatig gecreëerd en richt zich op het voorspellen van landbouwoogsten. Het simuleert omstandigheden op basis van diverse milieu- en managementfactoren. Het doel is het bieden van een oefenomgeving voor het ontwikkelen van voorspellende modellen in de context van landbouw, machine learning en regressieanalyse."
   ]
  },
  {
   "cell_type": "markdown",
   "metadata": {},
   "source": [
    "Dit Python-script maakt gebruik van de pandas-bibliotheek om de gegevens in te lezen vanuit het CSV-bestand genaamd \"agricultural_yield_train.csv\". De gegevens worden opgeslagen in de variabele `ay_data`. Door de `head()`-functie te gebruiken, worden de eerste paar rijen van de dataset weergegeven. Dit geeft een snel overzicht van de structuur en inhoud van de gegevens."
   ]
  },
  {
   "cell_type": "code",
   "execution_count": 23,
   "metadata": {},
   "outputs": [
    {
     "data": {
      "text/html": [
       "<div>\n",
       "<style scoped>\n",
       "    .dataframe tbody tr th:only-of-type {\n",
       "        vertical-align: middle;\n",
       "    }\n",
       "\n",
       "    .dataframe tbody tr th {\n",
       "        vertical-align: top;\n",
       "    }\n",
       "\n",
       "    .dataframe thead th {\n",
       "        text-align: right;\n",
       "    }\n",
       "</style>\n",
       "<table border=\"1\" class=\"dataframe\">\n",
       "  <thead>\n",
       "    <tr style=\"text-align: right;\">\n",
       "      <th></th>\n",
       "      <th>Soil_Quality</th>\n",
       "      <th>Seed_Variety</th>\n",
       "      <th>Fertilizer_Amount_kg_per_hectare</th>\n",
       "      <th>Sunny_Days</th>\n",
       "      <th>Rainfall_mm</th>\n",
       "      <th>Irrigation_Schedule</th>\n",
       "      <th>Yield_kg_per_hectare</th>\n",
       "    </tr>\n",
       "  </thead>\n",
       "  <tbody>\n",
       "    <tr>\n",
       "      <th>0</th>\n",
       "      <td>96.415657</td>\n",
       "      <td>1</td>\n",
       "      <td>147.853040</td>\n",
       "      <td>94.593926</td>\n",
       "      <td>444.267569</td>\n",
       "      <td>3</td>\n",
       "      <td>683.759119</td>\n",
       "    </tr>\n",
       "    <tr>\n",
       "      <th>1</th>\n",
       "      <td>92.352626</td>\n",
       "      <td>0</td>\n",
       "      <td>281.565396</td>\n",
       "      <td>90.504644</td>\n",
       "      <td>517.585491</td>\n",
       "      <td>7</td>\n",
       "      <td>678.714861</td>\n",
       "    </tr>\n",
       "    <tr>\n",
       "      <th>2</th>\n",
       "      <td>63.714785</td>\n",
       "      <td>1</td>\n",
       "      <td>137.864940</td>\n",
       "      <td>97.329340</td>\n",
       "      <td>420.310945</td>\n",
       "      <td>8</td>\n",
       "      <td>934.691975</td>\n",
       "    </tr>\n",
       "    <tr>\n",
       "      <th>3</th>\n",
       "      <td>90.084256</td>\n",
       "      <td>1</td>\n",
       "      <td>100.946659</td>\n",
       "      <td>113.404828</td>\n",
       "      <td>547.817646</td>\n",
       "      <td>7</td>\n",
       "      <td>905.842541</td>\n",
       "    </tr>\n",
       "    <tr>\n",
       "      <th>4</th>\n",
       "      <td>81.600341</td>\n",
       "      <td>1</td>\n",
       "      <td>223.088908</td>\n",
       "      <td>83.048176</td>\n",
       "      <td>434.726333</td>\n",
       "      <td>6</td>\n",
       "      <td>897.584665</td>\n",
       "    </tr>\n",
       "  </tbody>\n",
       "</table>\n",
       "</div>"
      ],
      "text/plain": [
       "   Soil_Quality  Seed_Variety  Fertilizer_Amount_kg_per_hectare  Sunny_Days  \\\n",
       "0     96.415657             1                        147.853040   94.593926   \n",
       "1     92.352626             0                        281.565396   90.504644   \n",
       "2     63.714785             1                        137.864940   97.329340   \n",
       "3     90.084256             1                        100.946659  113.404828   \n",
       "4     81.600341             1                        223.088908   83.048176   \n",
       "\n",
       "   Rainfall_mm  Irrigation_Schedule  Yield_kg_per_hectare  \n",
       "0   444.267569                    3            683.759119  \n",
       "1   517.585491                    7            678.714861  \n",
       "2   420.310945                    8            934.691975  \n",
       "3   547.817646                    7            905.842541  \n",
       "4   434.726333                    6            897.584665  "
      ]
     },
     "execution_count": 23,
     "metadata": {},
     "output_type": "execute_result"
    }
   ],
   "source": [
    "import pandas as pd\n",
    "\n",
    "ay_data = pd.read_csv(\"../csv/agricultural_yield_train.csv\")\n",
    "ay_data.head()"
   ]
  },
  {
   "cell_type": "markdown",
   "metadata": {},
   "source": [
    "Dit Python-script bereidt gegevens voor machine learning voor door features (`X`) en een targetvariabele (`y`) te definiëren. De features worden gedefinieerd als alle kolommen behalve `\"Seed_Variety\"` in het DataFrame `ay_data`, en de targetvariabele (`y`) wordt ingesteld op de kolom `\"Seed_Variety\"`."
   ]
  },
  {
   "cell_type": "code",
   "execution_count": 24,
   "metadata": {},
   "outputs": [
    {
     "data": {
      "text/plain": [
       "(       Soil_Quality  Fertilizer_Amount_kg_per_hectare  Sunny_Days  \\\n",
       " 0         96.415657                        147.853040   94.593926   \n",
       " 1         92.352626                        281.565396   90.504644   \n",
       " 2         63.714785                        137.864940   97.329340   \n",
       " 3         90.084256                        100.946659  113.404828   \n",
       " 4         81.600341                        223.088908   83.048176   \n",
       " ...             ...                               ...         ...   \n",
       " 15995     77.053550                        154.189768  103.115855   \n",
       " 15996     99.795631                        282.295839  123.598354   \n",
       " 15997     67.478487                        120.017122  102.308627   \n",
       " 15998     85.176890                        247.847389  114.956634   \n",
       " 15999     87.838280                        244.216536   98.313738   \n",
       " \n",
       "        Rainfall_mm  Irrigation_Schedule  Yield_kg_per_hectare  \n",
       " 0       444.267569                    3            683.759119  \n",
       " 1       517.585491                    7            678.714861  \n",
       " 2       420.310945                    8            934.691975  \n",
       " 3       547.817646                    7            905.842541  \n",
       " 4       434.726333                    6            897.584665  \n",
       " ...            ...                  ...                   ...  \n",
       " 15995   319.915079                    7            956.781949  \n",
       " 15996   647.292136                    4            879.682714  \n",
       " 15997   514.372747                    8            932.829561  \n",
       " 15998   695.035801                    6            889.738438  \n",
       " 15999   590.794915                    6            554.698389  \n",
       " \n",
       " [16000 rows x 6 columns],\n",
       " 0        1\n",
       " 1        0\n",
       " 2        1\n",
       " 3        1\n",
       " 4        1\n",
       "         ..\n",
       " 15995    1\n",
       " 15996    1\n",
       " 15997    1\n",
       " 15998    1\n",
       " 15999    0\n",
       " Name: Seed_Variety, Length: 16000, dtype: int64)"
      ]
     },
     "execution_count": 24,
     "metadata": {},
     "output_type": "execute_result"
    }
   ],
   "source": [
    "X = ay_data.drop([\"Seed_Variety\"], axis=1)\n",
    "y = ay_data[\"Seed_Variety\"]\n",
    "\n",
    "X, y"
   ]
  },
  {
   "cell_type": "markdown",
   "metadata": {},
   "source": [
    "Dit Python-script maakt gebruik van de `train_test_split`-functie uit de scikit-learn bibliotheek om een dataset op te splitsen in training- en testsets. De features (`X`) en de bijbehorende targetvariabele (`y`) worden als invoer gegeven. De resulterende datasets, `X_train`, `X_test`, `y_train`, en `y_test`, worden gebruikt voor het trainen en evalueren van de modellen. De parameter `test_size=0.2` geeft aan dat 20% van de gegevens wordt toegewezen aan de testset, terwijl 80% wordt gebruikt voor training. De parameter `random_state=0` zorgt voor reproduceerbaarheid van de splitsing. Met toevoeging van `stratify=y` wordt de parameter `stratify` toegepast, wat betekent dat de verdeling van klassen in de targetvariabele (`y`) behouden blijft in zowel de training- als de testset. Dit is vooral relevant bij classificatietaken met ongebalanceerde datasets, waarbij het behoud van dezelfde klasseverdeling in beide sets belangrijk is om de representativiteit van de data te waarborgen."
   ]
  },
  {
   "cell_type": "code",
   "execution_count": 25,
   "metadata": {},
   "outputs": [],
   "source": [
    "from sklearn.model_selection import train_test_split\n",
    "\n",
    "X_train, X_test, y_train, y_test = train_test_split(X, y, test_size=0.2, random_state=0, stratify=y)\n"
   ]
  },
  {
   "cell_type": "markdown",
   "metadata": {},
   "source": [
    "Dit codeblok maakt gebruik van GridSearchCV om de beste hyperparameters te vinden voor een Random Forest Classifier-model. Het grid van hyperparameters bevat verschillende waarden voor het aantal bomen `(n_estimators)` in het ensemble. Vervolgens wordt GridSearchCV gebruikt om het beste model te trainen en te valideren met behulp van 5-voudige cross-validation. Na het zoeken wordt het model geëvalueerd en worden de beste parameters en het beste model opgeslagen voor verdere analyse en gebruik.\n",
    "\n",
    "**DIT CODE BLOK RUNT DE EERSTE KEER 6 MIN**"
   ]
  },
  {
   "cell_type": "code",
   "execution_count": 26,
   "metadata": {},
   "outputs": [],
   "source": [
    "from sklearn.model_selection import GridSearchCV\n",
    "from sklearn.ensemble import RandomForestClassifier\n",
    "\n",
    "param_grid_rf = {\n",
    "    'n_estimators': [1, 5, 10, 50, 100, 150, 200, 250, 500]\n",
    "}\n",
    "\n",
    "model_rf = RandomForestClassifier()\n",
    "\n",
    "grid_search_rf = GridSearchCV(estimator = model_rf, param_grid=param_grid_rf, cv=5)\n",
    "\n",
    "grid_search_rf.fit(X_train, y_train)\n",
    "\n",
    "best_params_rf = grid_search_rf.best_params_\n",
    "\n",
    "best_model_rf = grid_search_rf.best_estimator_"
   ]
  },
  {
   "cell_type": "markdown",
   "metadata": {},
   "source": [
    "Deze code lijn maakt gebruik van het eerder getrainde Random Forest-classificatiemodel (`best_model_rf`) om voorspellingen te doen op de testdataset (`X_test`). De resulterende voorspellingen worden opgeslagen in de variabele `y_pred_rf`. Het doel is om de prestaties van het Random Forest-model te evalueren door de voorspellingen te vergelijken met de echte labels van de testdataset."
   ]
  },
  {
   "cell_type": "code",
   "execution_count": 27,
   "metadata": {},
   "outputs": [
    {
     "data": {
      "text/plain": [
       "array([0, 1, 1, ..., 1, 1, 1], dtype=int64)"
      ]
     },
     "execution_count": 27,
     "metadata": {},
     "output_type": "execute_result"
    }
   ],
   "source": [
    "y_pred_rf = best_model_rf.predict(X_test)\n",
    "y_pred_rf"
   ]
  },
  {
   "cell_type": "markdown",
   "metadata": {},
   "source": [
    "Deze code voert een grid search uit op een RandomForestClassifier om de beste waarde voor het aantal bomen `n_estimators` te bepalen. Het itereren over verschillende waarden van `n_estimators` en het trainen van het model voor elke waarde. Vervolgens wordt de nauwkeurigheid van elk getrainde model geëvalueerd op de testgegevens. Ten slotte wordt de beste waarde voor `n_estimators` afgedrukt, samen met de nauwkeurigheid van het model dat is getraind met deze optimale waarde.\n",
    "\n",
    "**DIT CODE BLOK RUNT DE EERSTE KEER 2 MIN**"
   ]
  },
  {
   "cell_type": "code",
   "execution_count": 30,
   "metadata": {},
   "outputs": [
    {
     "name": "stdout",
     "output_type": "stream",
     "text": [
      "Accuracy for n_estimators=1: 0.9534375\n",
      "Accuracy for n_estimators=5: 0.9825\n",
      "Accuracy for n_estimators=10: 0.9878125\n",
      "Accuracy for n_estimators=50: 0.989375\n",
      "Accuracy for n_estimators=100: 0.99\n",
      "Accuracy for n_estimators=150: 0.9896875\n",
      "Accuracy for n_estimators=200: 0.9903125\n",
      "Accuracy for n_estimators=250: 0.9896875\n",
      "Accuracy for n_estimators=500: 0.99\n"
     ]
    }
   ],
   "source": [
    "for n_estimators_value in param_grid_rf['n_estimators']:\n",
    "    model_rf = RandomForestClassifier(n_estimators=n_estimators_value, random_state=0)\n",
    "    model_rf.fit(X_train, y_train)\n",
    "    accuracy_rf = model_rf.score(X_test, y_test)\n",
    "    print(f\"Accuracy for n_estimators={n_estimators_value}: {accuracy_rf}\")\n"
   ]
  },
  {
   "cell_type": "markdown",
   "metadata": {},
   "source": [
    "Dit codeblok visualiseert de  belangrijkheid van elke functie in de dataset voor een Random Forest-model. Het gebruikt de `feature_importances_` attribuut om de bijdrage van elke functie aan de voorspellende kracht van het model weer te geven. De hoogte van de staafdiagrammen geeft de mate van belangrijkheid van elke functie aan, waardoor het gemakkelijk is om te zien welke functies significant zijn voor het model. Bovendien laat het alleen de best presterende `n_estimators` zien in de plot."
   ]
  },
  {
   "cell_type": "code",
   "execution_count": 29,
   "metadata": {},
   "outputs": [
    {
     "data": {
      "image/png": "[encoded data removed]",
      "text/plain": [
       "<Figure size 1800x600 with 1 Axes>"
      ]
     },
     "metadata": {},
     "output_type": "display_data"
    }
   ],
   "source": [
    "import matplotlib.pyplot as plt\n",
    "\n",
    "feature_importances = best_model_rf.feature_importances_\n",
    "plt.figure(figsize=(18, 6))\n",
    "plt.bar(X.columns, feature_importances)\n",
    "plt.xlabel(\"Features\")\n",
    "plt.ylabel(\"Feature Importance\")\n",
    "plt.title(\"Random Forest Feature Importance\")\n",
    "plt.show()"
   ]
  },
  {
   "cell_type": "markdown",
   "metadata": {},
   "source": [
    "Conclusie\n",
    "\n",
    "- `n_estimators_value` 1: Nauwkeurigheid van 94,9±%\n",
    "- `n_estimators_value` 5: Nauwkeurigheid van 98,3±%\n",
    "- `n_estimators_value` 10: Nauwkeurigheid van 98,8±%\n",
    "- `n_estimators_value` 50: Nauwkeurigheid van 99,0±%\n",
    "- `n_estimators_value` 100: Nauwkeurigheid van 99,0±%\n",
    "- `n_estimators_value` 150: Nauwkeurigheid van 99,1±%\n",
    "- `n_estimators_value` 200: Nauwkeurigheid van 99,1±%\n",
    "- `n_estimators_value` 250: Nauwkeurigheid van 99,0±%\n",
    "- `n_estimators_value` 500: Nauwkeurigheid van 99,0±%\n",
    "\n",
    "Het gebruik van stratificatie `(stratify=y)` bij het splitsen van de gegevens in trainings- en testsets heeft invloed gehad op de nauwkeurigheidsresultaten. Deze strategie zorgt voor een gebalanceerde verdeling van de klassen in zowel de trainings- als testgegevens, waardoor een meer representatieve evaluatie van het model mogelijk is.\n",
    "\n",
    "Na analyse van de nauwkeurigheidsresultaten van het Random Forest-model met verschillende aantallen bomen (`n_estimators`), kunnen we de volgende conclusies trekken:\n",
    "\n",
    "- Bij een laag aantal bomen, zoals 1, is de nauwkeurigheid 94,9%, wat een redelijke prestatie is maar waarschijnlijk verbeterd kan worden met meer bomen.\n",
    "\n",
    "- Met 5 bomen stijgt de nauwkeurigheid tot 98,3%, wat een aanzienlijke verbetering is ten opzichte van slechts één boom.\n",
    "\n",
    "- De nauwkeurigheid blijft toenemen met het aantal bomen, waarbij een stabilisatie wordt waargenomen rond 99,0% na ongeveer 50 bomen.\n",
    "\n",
    "- Het lijkt erop dat verdere toename in het aantal bomen boven de 50 leidt tot marginale verbeteringen in nauwkeurigheid, met de nauwkeurigheid die rond de 99,0-99,1% blijft schommelen.\n",
    "\n",
    "- Bij hogere aantallen bomen, zoals 250 en 500, wordt geen verdere substantiële verbetering in nauwkeurigheid waargenomen, wat aangeeft dat het model een zekere mate van stabiliteit heeft bereikt.\n",
    "\n",
    "Over het algemeen kunnen we concluderen dat het model profiteert van het toevoegen van bomen tot ongeveer 50, waarna verdere toename in het aantal bomen leidt tot marginale verbeteringen.\n",
    "\n",
    "Naast de analyse van de nauwkeurigheidsresultaten is het van belang om naar de feature importances te kijken. Hieruit blijkt dat `yield_kg_per_hectare` de hoogste invloed heeft op de voorspellingen, gevolgd door andere kenmerken zoals `irrigation_schedule`, `rainfall_mm`, `fertilizer_amount_kg_per_hectare`, `soil_quality`, en `sunny_days`. \n",
    "\n",
    "Deze bevindingen onderstrepen dat niet alleen het aantal bomen (`n_estimators`) van belang is voor het model, maar ook de kwaliteit en relevantie van individuele kenmerken. Het model leert sterk van variaties in `yield_kg_per_hectare`, wat logisch is gezien dit het beoogde voorspelde kenmerk is.\n",
    "\n",
    "In conclusie, naast het optimaliseren van het aantal bomen, benadrukt de analyse van feature importances het belang van begrip van de invloed van individuele kenmerken voor een betere interpretatie van het Random Forest-model."
   ]
  }
 ],
 "metadata": {
  "kernelspec": {
   "display_name": "b2c3",
   "language": "python",
   "name": "python3"
  },
  "language_info": {
   "codemirror_mode": {
    "name": "ipython",
    "version": 3
   },
   "file_extension": ".py",
   "mimetype": "text/x-python",
   "name": "python",
   "nbconvert_exporter": "python",
   "pygments_lexer": "ipython3",
   "version": "3.10.13"
  }
 },
 "nbformat": 4,
 "nbformat_minor": 2
}
